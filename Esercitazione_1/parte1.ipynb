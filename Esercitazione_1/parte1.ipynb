{
 "cells": [
  {
   "cell_type": "code",
   "execution_count": 8,
   "metadata": {
    "pycharm": {
     "name": "#%%\n"
    },
    "scrolled": true
   },
   "outputs": [
    {
     "data": {
      "text/plain": "[0.2791559033752252, -0.04774468250839295, -0.04774468250839295]"
     },
     "execution_count": 8,
     "metadata": {},
     "output_type": "execute_result"
    }
   ],
   "source": [
    "import nltk\n",
    "import similarity as sim\n",
    "import pandas as pd\n",
    "import numpy as np\n",
    "import correlation as corr\n",
    "from nltk.corpus import wordnet as wn\n",
    "import matplotlib.pyplot as plt\n",
    "import scipy\n",
    "data = pd.read_csv (\"/home/ludov/Desktop/tln-Radicioni/Esercitazione_1/WordSim353.csv\", sep = ',')\n",
    "\n",
    "wp_arr = []\n",
    "spw_arr = []\n",
    "lch_arr = []\n",
    "human_arr = []\n",
    "diff_arr = []\n",
    "result = []\n",
    "result1 = []\n",
    "for d_row in data.itertuples():\n",
    "    wp_arr.append(sim.wup_correlation_word(d_row[1],d_row[2]))\n",
    "    spw_arr.append(sim.shortest_path_word(d_row[1],d_row[2]))\n",
    "    lch_arr.append(sim.lc_word(d_row[1],d_row[2]))\n",
    "    human_arr.append(d_row[3])\n",
    "    #diff_arr.append(abs(WP(d_row[1],d_row[2])-d_row[3]))\n",
    "result1.append(corr.rank_spear(human_arr,wp_arr))\n",
    "result1.append(corr.rank_spear(human_arr,spw_arr))\n",
    "result1.append(corr.rank_spear(human_arr,lch_arr))\n",
    "result.append(corr.pearson(human_arr,wp_arr))\n",
    "result.append(corr.pearson(human_arr,spw_arr))\n",
    "result.append(corr.pearson(human_arr,lch_arr))\n",
    "result1"
   ]
  },
  {
   "cell_type": "code",
   "execution_count": 2,
   "metadata": {
    "pycharm": {
     "name": "#%% GRAFICI\n"
    }
   },
   "outputs": [],
   "source": [
    "#fig, ax = plt.subplots()\n",
    "\n",
    "#ax.scatter(range(len(wp_arr)),wp_arr, c='blue', label='WP',\n",
    "#               alpha=0.3, edgecolors='none')\n",
    "#ax.scatter(range(len(human_arr)),human_arr, c='red', label=\"Human\",\n",
    "#              alpha=0.3, edgecolors='none')\n",
    "\n",
    "\n",
    "#ax.legend()\n",
    "#ax.grid(True)\n",
    "#plt.show()"
   ]
  },
  {
   "cell_type": "code",
   "execution_count": 3,
   "metadata": {
    "pycharm": {
     "name": "#%% GRAFICI DIFFERENZA\n"
    }
   },
   "outputs": [],
   "source": [
    "#fig, ap = plt.subplots()d\n",
    "#import nltk\n",
    "#nltk.download()\n",
    "#ap.scatter(range(len(diff_arr)),diff_arr, c='blue', label='Difference',\n",
    "#               alpha=0.3, edgecolors='none')\n",
    "\n",
    "#ap.legend()\n",
    "#ap.grid(True)\n",
    "#plt.show()"
   ]
  },
  {
   "cell_type": "code",
   "execution_count": 4,
   "metadata": {
    "pycharm": {
     "name": "#%%\n"
    }
   },
   "outputs": [],
   "source": [
    "#pd.set_option('display.max_rows', 500)\n",
    "#data['WP'] = wp_arr\n",
    "#data['WP_TRUE'] = wp_true\n",
    "#data\n"
   ]
  }
 ],
 "metadata": {
  "kernelspec": {
   "display_name": "Python 3",
   "language": "python",
   "name": "python3"
  },
  "language_info": {
   "codemirror_mode": {
    "name": "ipython",
    "version": 3
   },
   "file_extension": ".py",
   "mimetype": "text/x-python",
   "name": "python",
   "nbconvert_exporter": "python",
   "pygments_lexer": "ipython3",
   "version": "3.8.10"
  }
 },
 "nbformat": 4,
 "nbformat_minor": 1
}